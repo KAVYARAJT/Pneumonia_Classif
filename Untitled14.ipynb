{
  "cells": [
    {
      "cell_type": "code",
      "execution_count": null,
      "metadata": {
        "id": "NSqBRYVmFDGm"
      },
      "outputs": [],
      "source": [
        "import os\n",
        "import numpy as np\n",
        "import matplotlib.pyplot as plt\n",
        "from sklearn.metrics import confusion_matrix, classification_report, roc_auc_score\n",
        "import tensorflow as tf\n",
        "from tensorflow.keras.preprocessing.image import ImageDataGenerator\n",
        "from tensorflow.keras.applications import ResNet50\n",
        "from tensorflow.keras.models import Model\n",
        "from tensorflow.keras.layers import Dense, GlobalAveragePooling2D, Dropout\n",
        "from tensorflow.keras.optimizers import Adam\n"
      ]
    },
    {
      "cell_type": "code",
      "execution_count": null,
      "metadata": {
        "colab": {
          "base_uri": "https://localhost:8080/"
        },
        "id": "A1vMBtSMHm4c",
        "outputId": "74126ebf-57e4-4c19-d005-bdc078be53ee"
      },
      "outputs": [
        {
          "name": "stdout",
          "output_type": "stream",
          "text": [
            "pneumoniamnist.npz\n"
          ]
        }
      ],
      "source": [
        "!ls /content/chest_xray\n"
      ]
    },
    {
      "cell_type": "code",
      "execution_count": null,
      "metadata": {
        "id": "W8r7lxa4H8yQ"
      },
      "outputs": [],
      "source": [
        "import numpy as np\n",
        "\n",
        "data = np.load('/content/chest_xray/pneumoniamnist.npz')\n",
        "x_train, y_train = data['train_images'], data['train_labels']\n",
        "x_val, y_val = data['val_images'], data['val_labels']\n",
        "x_test, y_test = data['test_images'], data['test_labels']\n"
      ]
    },
    {
      "cell_type": "code",
      "execution_count": null,
      "metadata": {
        "id": "cPnHHClEB6FX"
      },
      "outputs": [],
      "source": [
        "import tensorflow as tf\n",
        "from tensorflow.image import resize\n",
        "\n",
        "# Convert grayscale (1 channel) to RGB (3 channels) and resize\n",
        "def preprocess(images):\n",
        "    images = tf.expand_dims(images, -1) if images.ndim == 3 else images\n",
        "    images = tf.image.grayscale_to_rgb(tf.convert_to_tensor(images))\n",
        "    images = tf.image.resize(images, [224, 224]) / 255.0\n",
        "    return images.numpy()\n",
        "\n",
        "x_train = preprocess(x_train)\n",
        "x_val = preprocess(x_val)\n",
        "x_test = preprocess(x_test)\n",
        "\n",
        "# Flatten label arrays if needed\n",
        "y_train = y_train.flatten()\n",
        "y_val = y_val.flatten()\n",
        "y_test = y_test.flatten()\n"
      ]
    },
    {
      "cell_type": "code",
      "execution_count": null,
      "metadata": {
        "colab": {
          "base_uri": "https://localhost:8080/"
        },
        "id": "IYDYBWkcUoGm",
        "outputId": "0c840923-32f4-4b16-e9b9-eda030e8af9b"
      },
      "outputs": [
        {
          "name": "stdout",
          "output_type": "stream",
          "text": [
            "Class distribution: {np.uint8(0): np.int64(388), np.uint8(1): np.int64(3494)}\n",
            "Class weights: {0: np.float64(5.002577319587629), 1: np.float64(0.5555237550085862)}\n"
          ]
        }
      ],
      "source": [
        "from sklearn.utils.class_weight import compute_class_weight\n",
        "\n",
        "# Check class counts\n",
        "unique, counts = np.unique(y_train, return_counts=True)\n",
        "print(\"Class distribution:\", dict(zip(unique, counts)))\n",
        "\n",
        "# Compute class weights to balance the loss\n",
        "class_weights = compute_class_weight('balanced', classes=np.unique(y_train), y=y_train)\n",
        "class_weights = dict(enumerate(class_weights))\n",
        "print(\"Class weights:\", class_weights)\n"
      ]
    },
    {
      "cell_type": "code",
      "execution_count": null,
      "metadata": {
        "id": "XyZv6J2Iu-1y"
      },
      "outputs": [],
      "source": [
        "from tensorflow.keras.applications import ResNet50\n",
        "from tensorflow.keras.layers import Dense, GlobalAveragePooling2D, Dropout, Input\n",
        "from tensorflow.keras.models import Model\n",
        "from tensorflow.keras.optimizers import Adam\n",
        "\n",
        "base_model = ResNet50(weights='imagenet', include_top=False, input_shape=(224, 224, 3))\n",
        "base_model.trainable = False\n",
        "\n",
        "inputs = Input(shape=(224, 224, 3))\n",
        "x = base_model(inputs, training=False)\n",
        "x = GlobalAveragePooling2D()(x)\n",
        "x = Dropout(0.5)(x)\n",
        "x = Dense(128, activation='relu')(x)\n",
        "outputs = Dense(1, activation='sigmoid')(x)\n",
        "\n",
        "model = Model(inputs, outputs)\n",
        "\n",
        "model.compile(optimizer=Adam(1e-4), loss='binary_crossentropy', metrics=['accuracy'])\n"
      ]
    },
    {
      "cell_type": "code",
      "execution_count": null,
      "metadata": {
        "colab": {
          "background_save": true,
          "base_uri": "https://localhost:8080/"
        },
        "id": "qCpTMy6xvBYS",
        "outputId": "bba8cd76-9f08-4692-f237-9eb9689fc723"
      },
      "outputs": [
        {
          "name": "stdout",
          "output_type": "stream",
          "text": [
            "Epoch 1/5\n",
            "\u001b[1m122/122\u001b[0m \u001b[32m━━━━━━━━━━━━━━━━━━━━\u001b[0m\u001b[37m\u001b[0m \u001b[1m684s\u001b[0m 6s/step - accuracy: 0.8879 - loss: 0.3636 - val_accuracy: 0.7424 - val_loss: 0.6102\n",
            "Epoch 2/5\n",
            "\u001b[1m122/122\u001b[0m \u001b[32m━━━━━━━━━━━━━━━━━━━━\u001b[0m\u001b[37m\u001b[0m \u001b[1m671s\u001b[0m 5s/step - accuracy: 0.8975 - loss: 0.3391 - val_accuracy: 0.7424 - val_loss: 0.6020\n",
            "Epoch 3/5\n",
            "\u001b[1m122/122\u001b[0m \u001b[32m━━━━━━━━━━━━━━━━━━━━\u001b[0m\u001b[37m\u001b[0m \u001b[1m683s\u001b[0m 5s/step - accuracy: 0.8978 - loss: 0.3416 - val_accuracy: 0.7424 - val_loss: 0.6101\n",
            "Epoch 4/5\n",
            "\u001b[1m122/122\u001b[0m \u001b[32m━━━━━━━━━━━━━━━━━━━━\u001b[0m\u001b[37m\u001b[0m \u001b[1m682s\u001b[0m 5s/step - accuracy: 0.9057 - loss: 0.3173 - val_accuracy: 0.7424 - val_loss: 0.5775\n",
            "Epoch 5/5\n",
            "\u001b[1m122/122\u001b[0m \u001b[32m━━━━━━━━━━━━━━━━━━━━\u001b[0m\u001b[37m\u001b[0m \u001b[1m741s\u001b[0m 6s/step - accuracy: 0.9024 - loss: 0.3297 - val_accuracy: 0.7424 - val_loss: 0.5766\n"
          ]
        },
        {
          "data": {
            "text/plain": [
              "<keras.src.callbacks.history.History at 0x7ff97e03efd0>"
            ]
          },
          "execution_count": 8,
          "metadata": {},
          "output_type": "execute_result"
        }
      ],
      "source": [
        "model.fit(x_train, y_train, validation_data=(x_val, y_val), epochs=5, batch_size=32)\n"
      ]
    },
    {
      "cell_type": "code",
      "execution_count": null,
      "metadata": {
        "colab": {
          "base_uri": "https://localhost:8080/"
        },
        "id": "D2GmVi5oVwGg",
        "outputId": "7c5fca2b-6203-4c09-f741-4d28c268b787"
      },
      "outputs": [
        {
          "output_type": "stream",
          "name": "stdout",
          "text": [
            "\u001b[1m20/20\u001b[0m \u001b[32m━━━━━━━━━━━━━━━━━━━━\u001b[0m\u001b[37m\u001b[0m \u001b[1m102s\u001b[0m 5s/step\n",
            "Confusion Matrix:\n",
            " [[  0 234]\n",
            " [  0 390]]\n",
            "Classification Report:\n",
            "               precision    recall  f1-score   support\n",
            "\n",
            "           0       0.00      0.00      0.00       234\n",
            "           1       0.62      1.00      0.77       390\n",
            "\n",
            "    accuracy                           0.62       624\n",
            "   macro avg       0.31      0.50      0.38       624\n",
            "weighted avg       0.39      0.62      0.48       624\n",
            "\n",
            "AUC Score: 0.9045036160420776\n"
          ]
        },
        {
          "output_type": "stream",
          "name": "stderr",
          "text": [
            "/usr/local/lib/python3.11/dist-packages/sklearn/metrics/_classification.py:1565: UndefinedMetricWarning: Precision is ill-defined and being set to 0.0 in labels with no predicted samples. Use `zero_division` parameter to control this behavior.\n",
            "  _warn_prf(average, modifier, f\"{metric.capitalize()} is\", len(result))\n",
            "/usr/local/lib/python3.11/dist-packages/sklearn/metrics/_classification.py:1565: UndefinedMetricWarning: Precision is ill-defined and being set to 0.0 in labels with no predicted samples. Use `zero_division` parameter to control this behavior.\n",
            "  _warn_prf(average, modifier, f\"{metric.capitalize()} is\", len(result))\n",
            "/usr/local/lib/python3.11/dist-packages/sklearn/metrics/_classification.py:1565: UndefinedMetricWarning: Precision is ill-defined and being set to 0.0 in labels with no predicted samples. Use `zero_division` parameter to control this behavior.\n",
            "  _warn_prf(average, modifier, f\"{metric.capitalize()} is\", len(result))\n"
          ]
        }
      ],
      "source": [
        "from sklearn.metrics import confusion_matrix, classification_report, roc_auc_score\n",
        "\n",
        "y_probs = model.predict(x_test)\n",
        "y_preds = (y_probs > 0.5).astype(int)\n",
        "\n",
        "print(\"Confusion Matrix:\\n\", confusion_matrix(y_test, y_preds))\n",
        "print(\"Classification Report:\\n\", classification_report(y_test, y_preds))\n",
        "print(\"AUC Score:\", roc_auc_score(y_test, y_probs))\n"
      ]
    },
    {
      "cell_type": "code",
      "execution_count": null,
      "metadata": {
        "id": "iZyp5Hrk2bkP"
      },
      "outputs": [],
      "source": []
    }
  ],
  "metadata": {
    "colab": {
      "provenance": []
    },
    "kernelspec": {
      "display_name": "Python 3",
      "name": "python3"
    },
    "language_info": {
      "name": "python"
    }
  },
  "nbformat": 4,
  "nbformat_minor": 0
}